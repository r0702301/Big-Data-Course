{
 "cells": [
  {
   "cell_type": "markdown",
   "metadata": {},
   "source": [
    "# Big Data Statistics "
   ]
  },
  {
   "cell_type": "markdown",
   "metadata": {},
   "source": [
    "## Imports"
   ]
  },
  {
   "cell_type": "code",
   "execution_count": 1,
   "metadata": {},
   "outputs": [],
   "source": [
    "import pandas as pd\n",
    "import math\n",
    "import statistics as stat\n",
    "import matplotlib.pyplot as plt\n",
    "import numpy as np\n",
    "import matplotlib.ticker as plticker\n",
    "import statistics as s\n",
    "import seaborn as sns\n",
    "from scipy import stats"
   ]
  },
  {
   "cell_type": "markdown",
   "metadata": {},
   "source": [
    "## The Data"
   ]
  },
  {
   "cell_type": "code",
   "execution_count": 2,
   "metadata": {},
   "outputs": [
    {
     "data": {
      "text/html": [
       "<div>\n",
       "<style scoped>\n",
       "    .dataframe tbody tr th:only-of-type {\n",
       "        vertical-align: middle;\n",
       "    }\n",
       "\n",
       "    .dataframe tbody tr th {\n",
       "        vertical-align: top;\n",
       "    }\n",
       "\n",
       "    .dataframe thead th {\n",
       "        text-align: right;\n",
       "    }\n",
       "</style>\n",
       "<table border=\"1\" class=\"dataframe\">\n",
       "  <thead>\n",
       "    <tr style=\"text-align: right;\">\n",
       "      <th></th>\n",
       "      <th>Name</th>\n",
       "      <th>Sex</th>\n",
       "      <th>Age</th>\n",
       "      <th>Height</th>\n",
       "      <th>Weight</th>\n",
       "      <th>Team</th>\n",
       "      <th>NOC</th>\n",
       "      <th>Games</th>\n",
       "      <th>Year</th>\n",
       "      <th>Season</th>\n",
       "      <th>City</th>\n",
       "      <th>Sport</th>\n",
       "      <th>Event</th>\n",
       "      <th>Medal</th>\n",
       "    </tr>\n",
       "    <tr>\n",
       "      <th>ID</th>\n",
       "      <th></th>\n",
       "      <th></th>\n",
       "      <th></th>\n",
       "      <th></th>\n",
       "      <th></th>\n",
       "      <th></th>\n",
       "      <th></th>\n",
       "      <th></th>\n",
       "      <th></th>\n",
       "      <th></th>\n",
       "      <th></th>\n",
       "      <th></th>\n",
       "      <th></th>\n",
       "      <th></th>\n",
       "    </tr>\n",
       "  </thead>\n",
       "  <tbody>\n",
       "    <tr>\n",
       "      <td>576</td>\n",
       "      <td>Alejandro \"lex\" Abrines Redondo</td>\n",
       "      <td>M</td>\n",
       "      <td>23.0</td>\n",
       "      <td>198.0</td>\n",
       "      <td>93.0</td>\n",
       "      <td>Spain</td>\n",
       "      <td>ESP</td>\n",
       "      <td>2016 Summer</td>\n",
       "      <td>2016</td>\n",
       "      <td>Summer</td>\n",
       "      <td>Rio de Janeiro</td>\n",
       "      <td>Basketball</td>\n",
       "      <td>Basketball Men's Basketball</td>\n",
       "      <td>Bronze</td>\n",
       "    </tr>\n",
       "    <tr>\n",
       "      <td>683</td>\n",
       "      <td>Natalie Chioma Achonwa</td>\n",
       "      <td>F</td>\n",
       "      <td>23.0</td>\n",
       "      <td>190.0</td>\n",
       "      <td>86.0</td>\n",
       "      <td>Canada</td>\n",
       "      <td>CAN</td>\n",
       "      <td>2016 Summer</td>\n",
       "      <td>2016</td>\n",
       "      <td>Summer</td>\n",
       "      <td>Rio de Janeiro</td>\n",
       "      <td>Basketball</td>\n",
       "      <td>Basketball Women's Basketball</td>\n",
       "      <td>NaN</td>\n",
       "    </tr>\n",
       "    <tr>\n",
       "      <td>742</td>\n",
       "      <td>Roberto Acua</td>\n",
       "      <td>M</td>\n",
       "      <td>25.0</td>\n",
       "      <td>208.0</td>\n",
       "      <td>109.0</td>\n",
       "      <td>Argentina</td>\n",
       "      <td>ARG</td>\n",
       "      <td>2016 Summer</td>\n",
       "      <td>2016</td>\n",
       "      <td>Summer</td>\n",
       "      <td>Rio de Janeiro</td>\n",
       "      <td>Basketball</td>\n",
       "      <td>Basketball Men's Basketball</td>\n",
       "      <td>NaN</td>\n",
       "    </tr>\n",
       "    <tr>\n",
       "      <td>1023</td>\n",
       "      <td>Adriana \"Adrianinha\" Moiss Pinto</td>\n",
       "      <td>F</td>\n",
       "      <td>37.0</td>\n",
       "      <td>170.0</td>\n",
       "      <td>65.0</td>\n",
       "      <td>Brazil</td>\n",
       "      <td>BRA</td>\n",
       "      <td>2016 Summer</td>\n",
       "      <td>2016</td>\n",
       "      <td>Summer</td>\n",
       "      <td>Rio de Janeiro</td>\n",
       "      <td>Basketball</td>\n",
       "      <td>Basketball Women's Basketball</td>\n",
       "      <td>NaN</td>\n",
       "    </tr>\n",
       "    <tr>\n",
       "      <td>1701</td>\n",
       "      <td>Joshua Emmanuel \"Josh\" Akognon</td>\n",
       "      <td>M</td>\n",
       "      <td>30.0</td>\n",
       "      <td>189.0</td>\n",
       "      <td>83.0</td>\n",
       "      <td>Nigeria</td>\n",
       "      <td>NGR</td>\n",
       "      <td>2016 Summer</td>\n",
       "      <td>2016</td>\n",
       "      <td>Summer</td>\n",
       "      <td>Rio de Janeiro</td>\n",
       "      <td>Basketball</td>\n",
       "      <td>Basketball Men's Basketball</td>\n",
       "      <td>NaN</td>\n",
       "    </tr>\n",
       "    <tr>\n",
       "      <td>...</td>\n",
       "      <td>...</td>\n",
       "      <td>...</td>\n",
       "      <td>...</td>\n",
       "      <td>...</td>\n",
       "      <td>...</td>\n",
       "      <td>...</td>\n",
       "      <td>...</td>\n",
       "      <td>...</td>\n",
       "      <td>...</td>\n",
       "      <td>...</td>\n",
       "      <td>...</td>\n",
       "      <td>...</td>\n",
       "      <td>...</td>\n",
       "      <td>...</td>\n",
       "    </tr>\n",
       "    <tr>\n",
       "      <td>134684</td>\n",
       "      <td>Zhao Zhifang</td>\n",
       "      <td>F</td>\n",
       "      <td>21.0</td>\n",
       "      <td>168.0</td>\n",
       "      <td>57.0</td>\n",
       "      <td>China</td>\n",
       "      <td>CHN</td>\n",
       "      <td>2016 Summer</td>\n",
       "      <td>2016</td>\n",
       "      <td>Summer</td>\n",
       "      <td>Rio de Janeiro</td>\n",
       "      <td>Basketball</td>\n",
       "      <td>Basketball Women's Basketball</td>\n",
       "      <td>NaN</td>\n",
       "    </tr>\n",
       "    <tr>\n",
       "      <td>134806</td>\n",
       "      <td>Zhou Peng</td>\n",
       "      <td>M</td>\n",
       "      <td>26.0</td>\n",
       "      <td>206.0</td>\n",
       "      <td>102.0</td>\n",
       "      <td>China</td>\n",
       "      <td>CHN</td>\n",
       "      <td>2016 Summer</td>\n",
       "      <td>2016</td>\n",
       "      <td>Summer</td>\n",
       "      <td>Rio de Janeiro</td>\n",
       "      <td>Basketball</td>\n",
       "      <td>Basketball Men's Basketball</td>\n",
       "      <td>NaN</td>\n",
       "    </tr>\n",
       "    <tr>\n",
       "      <td>134808</td>\n",
       "      <td>Zhou Qi</td>\n",
       "      <td>M</td>\n",
       "      <td>20.0</td>\n",
       "      <td>217.0</td>\n",
       "      <td>95.0</td>\n",
       "      <td>China</td>\n",
       "      <td>CHN</td>\n",
       "      <td>2016 Summer</td>\n",
       "      <td>2016</td>\n",
       "      <td>Summer</td>\n",
       "      <td>Rio de Janeiro</td>\n",
       "      <td>Basketball</td>\n",
       "      <td>Basketball Men's Basketball</td>\n",
       "      <td>NaN</td>\n",
       "    </tr>\n",
       "    <tr>\n",
       "      <td>135273</td>\n",
       "      <td>Zou Yuchen</td>\n",
       "      <td>M</td>\n",
       "      <td>20.0</td>\n",
       "      <td>203.0</td>\n",
       "      <td>107.0</td>\n",
       "      <td>China</td>\n",
       "      <td>CHN</td>\n",
       "      <td>2016 Summer</td>\n",
       "      <td>2016</td>\n",
       "      <td>Summer</td>\n",
       "      <td>Rio de Janeiro</td>\n",
       "      <td>Basketball</td>\n",
       "      <td>Basketball Men's Basketball</td>\n",
       "      <td>NaN</td>\n",
       "    </tr>\n",
       "    <tr>\n",
       "      <td>135568</td>\n",
       "      <td>Olga Igorevna Zyuzkova</td>\n",
       "      <td>F</td>\n",
       "      <td>33.0</td>\n",
       "      <td>171.0</td>\n",
       "      <td>69.0</td>\n",
       "      <td>Belarus</td>\n",
       "      <td>BLR</td>\n",
       "      <td>2016 Summer</td>\n",
       "      <td>2016</td>\n",
       "      <td>Summer</td>\n",
       "      <td>Rio de Janeiro</td>\n",
       "      <td>Basketball</td>\n",
       "      <td>Basketball Women's Basketball</td>\n",
       "      <td>NaN</td>\n",
       "    </tr>\n",
       "  </tbody>\n",
       "</table>\n",
       "<p>281 rows × 14 columns</p>\n",
       "</div>"
      ],
      "text/plain": [
       "                                    Name Sex   Age  Height  Weight       Team  \\\n",
       "ID                                                                              \n",
       "576      Alejandro \"lex\" Abrines Redondo   M  23.0   198.0    93.0      Spain   \n",
       "683               Natalie Chioma Achonwa   F  23.0   190.0    86.0     Canada   \n",
       "742                         Roberto Acua   M  25.0   208.0   109.0  Argentina   \n",
       "1023    Adriana \"Adrianinha\" Moiss Pinto   F  37.0   170.0    65.0     Brazil   \n",
       "1701      Joshua Emmanuel \"Josh\" Akognon   M  30.0   189.0    83.0    Nigeria   \n",
       "...                                  ...  ..   ...     ...     ...        ...   \n",
       "134684                      Zhao Zhifang   F  21.0   168.0    57.0      China   \n",
       "134806                         Zhou Peng   M  26.0   206.0   102.0      China   \n",
       "134808                           Zhou Qi   M  20.0   217.0    95.0      China   \n",
       "135273                        Zou Yuchen   M  20.0   203.0   107.0      China   \n",
       "135568            Olga Igorevna Zyuzkova   F  33.0   171.0    69.0    Belarus   \n",
       "\n",
       "        NOC        Games  Year  Season            City       Sport  \\\n",
       "ID                                                                   \n",
       "576     ESP  2016 Summer  2016  Summer  Rio de Janeiro  Basketball   \n",
       "683     CAN  2016 Summer  2016  Summer  Rio de Janeiro  Basketball   \n",
       "742     ARG  2016 Summer  2016  Summer  Rio de Janeiro  Basketball   \n",
       "1023    BRA  2016 Summer  2016  Summer  Rio de Janeiro  Basketball   \n",
       "1701    NGR  2016 Summer  2016  Summer  Rio de Janeiro  Basketball   \n",
       "...     ...          ...   ...     ...             ...         ...   \n",
       "134684  CHN  2016 Summer  2016  Summer  Rio de Janeiro  Basketball   \n",
       "134806  CHN  2016 Summer  2016  Summer  Rio de Janeiro  Basketball   \n",
       "134808  CHN  2016 Summer  2016  Summer  Rio de Janeiro  Basketball   \n",
       "135273  CHN  2016 Summer  2016  Summer  Rio de Janeiro  Basketball   \n",
       "135568  BLR  2016 Summer  2016  Summer  Rio de Janeiro  Basketball   \n",
       "\n",
       "                                Event   Medal  \n",
       "ID                                             \n",
       "576       Basketball Men's Basketball  Bronze  \n",
       "683     Basketball Women's Basketball     NaN  \n",
       "742       Basketball Men's Basketball     NaN  \n",
       "1023    Basketball Women's Basketball     NaN  \n",
       "1701      Basketball Men's Basketball     NaN  \n",
       "...                               ...     ...  \n",
       "134684  Basketball Women's Basketball     NaN  \n",
       "134806    Basketball Men's Basketball     NaN  \n",
       "134808    Basketball Men's Basketball     NaN  \n",
       "135273    Basketball Men's Basketball     NaN  \n",
       "135568  Basketball Women's Basketball     NaN  \n",
       "\n",
       "[281 rows x 14 columns]"
      ]
     },
     "execution_count": 2,
     "metadata": {},
     "output_type": "execute_result"
    }
   ],
   "source": [
    "data = pd.read_csv(\"athlete_events.csv\", index_col = 0)\n",
    "basket2016 = data[data.Year == 2016]\n",
    "basket2016 = basket2016[basket2016.Sport == \"Basketball\"]\n",
    "basket2016"
   ]
  },
  {
   "cell_type": "markdown",
   "metadata": {},
   "source": [
    "# Central Data"
   ]
  },
  {
   "cell_type": "code",
   "execution_count": 3,
   "metadata": {},
   "outputs": [
    {
     "data": {
      "image/png": "[encoded data removed]",
      "text/plain": [
       "<Figure size 432x288 with 1 Axes>"
      ]
     },
     "metadata": {},
     "output_type": "display_data"
    }
   ],
   "source": [
    "sns.set(style=\"whitegrid\")\n",
    "plt.hist(basket2016.Age)\n",
    "_= plt.xlabel('Age')\n",
    "_= plt.ylabel('Number of players')\n",
    "plt.show()"
   ]
  },
  {
   "cell_type": "markdown",
   "metadata": {},
   "source": [
    "## The mean"
   ]
  },
  {
   "cell_type": "code",
   "execution_count": 4,
   "metadata": {},
   "outputs": [
    {
     "data": {
      "text/plain": [
       "27.669039145907472"
      ]
     },
     "execution_count": 4,
     "metadata": {},
     "output_type": "execute_result"
    }
   ],
   "source": [
    "np.mean(basket2016.Age)"
   ]
  },
  {
   "cell_type": "markdown",
   "metadata": {},
   "source": [
    "## The median"
   ]
  },
  {
   "cell_type": "code",
   "execution_count": 5,
   "metadata": {},
   "outputs": [
    {
     "data": {
      "text/plain": [
       "27.0"
      ]
     },
     "execution_count": 5,
     "metadata": {},
     "output_type": "execute_result"
    }
   ],
   "source": [
    "np.median(basket2016.Age)"
   ]
  },
  {
   "cell_type": "markdown",
   "metadata": {},
   "source": [
    "## The mode"
   ]
  },
  {
   "cell_type": "code",
   "execution_count": 6,
   "metadata": {},
   "outputs": [
    {
     "data": {
      "text/plain": [
       "ModeResult(mode=array([24.]), count=array([27]))"
      ]
     },
     "execution_count": 6,
     "metadata": {},
     "output_type": "execute_result"
    }
   ],
   "source": [
    "mode = stats.mode(basket2016.Age)\n",
    "mode"
   ]
  },
  {
   "cell_type": "markdown",
   "metadata": {},
   "source": [
    "# Dispersion"
   ]
  },
  {
   "cell_type": "markdown",
   "metadata": {},
   "source": [
    "## The range"
   ]
  },
  {
   "cell_type": "code",
   "execution_count": 7,
   "metadata": {},
   "outputs": [
    {
     "data": {
      "text/plain": [
       "19.0"
      ]
     },
     "execution_count": 7,
     "metadata": {},
     "output_type": "execute_result"
    }
   ],
   "source": [
    "max(basket2016.Age) - min(basket2016.Age)\n"
   ]
  },
  {
   "cell_type": "markdown",
   "metadata": {},
   "source": [
    "## Interquartile Range"
   ]
  },
  {
   "cell_type": "code",
   "execution_count": 8,
   "metadata": {},
   "outputs": [
    {
     "data": {
      "text/plain": [
       "0.25    24.0\n",
       "0.50    27.0\n",
       "0.75    31.0\n",
       "Name: Age, dtype: float64"
      ]
     },
     "execution_count": 8,
     "metadata": {},
     "output_type": "execute_result"
    }
   ],
   "source": [
    "Q1 = basket2016.Age.quantile([0.25])\n",
    "Q2 = basket2016.Age.quantile([0.5])\n",
    "Q3 = basket2016.Age.quantile([0.75])\n",
    "basket2016.Age.quantile([0.25,0.5,0.75])\n"
   ]
  },
  {
   "cell_type": "markdown",
   "metadata": {},
   "source": [
    "## Standard Deviation"
   ]
  },
  {
   "cell_type": "code",
   "execution_count": 9,
   "metadata": {},
   "outputs": [
    {
     "data": {
      "text/plain": [
       "4.299593270037044"
      ]
     },
     "execution_count": 9,
     "metadata": {},
     "output_type": "execute_result"
    }
   ],
   "source": [
    "stat.stdev(basket2016.Age)"
   ]
  },
  {
   "cell_type": "markdown",
   "metadata": {},
   "source": [
    "## Boxplot"
   ]
  },
  {
   "cell_type": "code",
   "execution_count": 10,
   "metadata": {},
   "outputs": [
    {
     "data": {
      "image/png": "[encoded data removed]",
      "text/plain": [
       "<Figure size 432x288 with 1 Axes>"
      ]
     },
     "metadata": {},
     "output_type": "display_data"
    }
   ],
   "source": [
    "sns.set(style=\"whitegrid\")\n",
    "sns.boxplot(x=\"Age\", data=basket2016)\n",
    "plt.show()"
   ]
  },
  {
   "cell_type": "markdown",
   "metadata": {},
   "source": [
    "# New Data"
   ]
  },
  {
   "cell_type": "code",
   "execution_count": 11,
   "metadata": {},
   "outputs": [
    {
     "data": {
      "text/html": [
       "<div>\n",
       "<style scoped>\n",
       "    .dataframe tbody tr th:only-of-type {\n",
       "        vertical-align: middle;\n",
       "    }\n",
       "\n",
       "    .dataframe tbody tr th {\n",
       "        vertical-align: top;\n",
       "    }\n",
       "\n",
       "    .dataframe thead th {\n",
       "        text-align: right;\n",
       "    }\n",
       "</style>\n",
       "<table border=\"1\" class=\"dataframe\">\n",
       "  <thead>\n",
       "    <tr style=\"text-align: right;\">\n",
       "      <th></th>\n",
       "      <th>Name</th>\n",
       "      <th>Rounds</th>\n",
       "      <th>Scoring</th>\n",
       "      <th>Driving_Distance</th>\n",
       "      <th>Fairways_In_Regulation</th>\n",
       "      <th>Greens_In_Regulation</th>\n",
       "      <th>SG_P</th>\n",
       "      <th>SG_TTG</th>\n",
       "      <th>SG_T</th>\n",
       "      <th>Points</th>\n",
       "      <th>Top10</th>\n",
       "      <th>1ST</th>\n",
       "      <th>Year</th>\n",
       "      <th>Money</th>\n",
       "      <th>Country</th>\n",
       "    </tr>\n",
       "  </thead>\n",
       "  <tbody>\n",
       "    <tr>\n",
       "      <td>1672</td>\n",
       "      <td>Aaron Baddeley</td>\n",
       "      <td>93</td>\n",
       "      <td>70.888</td>\n",
       "      <td>291.7</td>\n",
       "      <td>55.42</td>\n",
       "      <td>63.11</td>\n",
       "      <td>0.581</td>\n",
       "      <td>-0.347</td>\n",
       "      <td>0.234</td>\n",
       "      <td>922</td>\n",
       "      <td>5.0</td>\n",
       "      <td>1.0</td>\n",
       "      <td>2016</td>\n",
       "      <td>$1,644,915</td>\n",
       "      <td>AUS</td>\n",
       "    </tr>\n",
       "    <tr>\n",
       "      <td>1673</td>\n",
       "      <td>Abraham Ancer</td>\n",
       "      <td>51</td>\n",
       "      <td>72.137</td>\n",
       "      <td>276.4</td>\n",
       "      <td>65.42</td>\n",
       "      <td>61.81</td>\n",
       "      <td>-0.421</td>\n",
       "      <td>-0.307</td>\n",
       "      <td>-0.727</td>\n",
       "      <td>147</td>\n",
       "      <td>NaN</td>\n",
       "      <td>NaN</td>\n",
       "      <td>2016</td>\n",
       "      <td>$162,811</td>\n",
       "      <td>MEX</td>\n",
       "    </tr>\n",
       "    <tr>\n",
       "      <td>1674</td>\n",
       "      <td>Adam Hadwin</td>\n",
       "      <td>93</td>\n",
       "      <td>70.719</td>\n",
       "      <td>290.1</td>\n",
       "      <td>63.62</td>\n",
       "      <td>66.07</td>\n",
       "      <td>0.529</td>\n",
       "      <td>-0.003</td>\n",
       "      <td>0.526</td>\n",
       "      <td>748</td>\n",
       "      <td>2.0</td>\n",
       "      <td>NaN</td>\n",
       "      <td>2016</td>\n",
       "      <td>$1,067,809</td>\n",
       "      <td>CAN</td>\n",
       "    </tr>\n",
       "    <tr>\n",
       "      <td>1675</td>\n",
       "      <td>Adam Scott</td>\n",
       "      <td>79</td>\n",
       "      <td>69.470</td>\n",
       "      <td>304.6</td>\n",
       "      <td>55.55</td>\n",
       "      <td>70.76</td>\n",
       "      <td>-0.168</td>\n",
       "      <td>2.062</td>\n",
       "      <td>1.894</td>\n",
       "      <td>1,930</td>\n",
       "      <td>9.0</td>\n",
       "      <td>2.0</td>\n",
       "      <td>2016</td>\n",
       "      <td>$6,473,090</td>\n",
       "      <td>AUS</td>\n",
       "    </tr>\n",
       "    <tr>\n",
       "      <td>1676</td>\n",
       "      <td>Alex Cejka</td>\n",
       "      <td>71</td>\n",
       "      <td>70.675</td>\n",
       "      <td>281.5</td>\n",
       "      <td>65.89</td>\n",
       "      <td>67.99</td>\n",
       "      <td>0.011</td>\n",
       "      <td>0.631</td>\n",
       "      <td>0.642</td>\n",
       "      <td>754</td>\n",
       "      <td>4.0</td>\n",
       "      <td>NaN</td>\n",
       "      <td>2016</td>\n",
       "      <td>$1,566,308</td>\n",
       "      <td>GER</td>\n",
       "    </tr>\n",
       "    <tr>\n",
       "      <td>...</td>\n",
       "      <td>...</td>\n",
       "      <td>...</td>\n",
       "      <td>...</td>\n",
       "      <td>...</td>\n",
       "      <td>...</td>\n",
       "      <td>...</td>\n",
       "      <td>...</td>\n",
       "      <td>...</td>\n",
       "      <td>...</td>\n",
       "      <td>...</td>\n",
       "      <td>...</td>\n",
       "      <td>...</td>\n",
       "      <td>...</td>\n",
       "      <td>...</td>\n",
       "      <td>...</td>\n",
       "    </tr>\n",
       "    <tr>\n",
       "      <td>2039</td>\n",
       "      <td>Whee Kim</td>\n",
       "      <td>74</td>\n",
       "      <td>70.964</td>\n",
       "      <td>289.4</td>\n",
       "      <td>54.32</td>\n",
       "      <td>62.09</td>\n",
       "      <td>0.456</td>\n",
       "      <td>-0.688</td>\n",
       "      <td>-0.232</td>\n",
       "      <td>583</td>\n",
       "      <td>2.0</td>\n",
       "      <td>NaN</td>\n",
       "      <td>2017</td>\n",
       "      <td>$1,125,368</td>\n",
       "      <td>KOR</td>\n",
       "    </tr>\n",
       "    <tr>\n",
       "      <td>2040</td>\n",
       "      <td>William McGirt</td>\n",
       "      <td>89</td>\n",
       "      <td>71.151</td>\n",
       "      <td>284.8</td>\n",
       "      <td>70.06</td>\n",
       "      <td>67.23</td>\n",
       "      <td>-0.018</td>\n",
       "      <td>-0.049</td>\n",
       "      <td>-0.067</td>\n",
       "      <td>621</td>\n",
       "      <td>3.0</td>\n",
       "      <td>NaN</td>\n",
       "      <td>2017</td>\n",
       "      <td>$1,225,005</td>\n",
       "      <td>USA</td>\n",
       "    </tr>\n",
       "    <tr>\n",
       "      <td>2041</td>\n",
       "      <td>Xander Schauffele</td>\n",
       "      <td>96</td>\n",
       "      <td>70.163</td>\n",
       "      <td>306.3</td>\n",
       "      <td>57.68</td>\n",
       "      <td>67.74</td>\n",
       "      <td>0.342</td>\n",
       "      <td>0.382</td>\n",
       "      <td>0.724</td>\n",
       "      <td>2,151</td>\n",
       "      <td>4.0</td>\n",
       "      <td>2.0</td>\n",
       "      <td>2017</td>\n",
       "      <td>$4,312,674</td>\n",
       "      <td>USA</td>\n",
       "    </tr>\n",
       "    <tr>\n",
       "      <td>2042</td>\n",
       "      <td>Zac Blair</td>\n",
       "      <td>105</td>\n",
       "      <td>71.007</td>\n",
       "      <td>272.7</td>\n",
       "      <td>69.70</td>\n",
       "      <td>64.70</td>\n",
       "      <td>0.035</td>\n",
       "      <td>-0.078</td>\n",
       "      <td>-0.044</td>\n",
       "      <td>364</td>\n",
       "      <td>1.0</td>\n",
       "      <td>NaN</td>\n",
       "      <td>2017</td>\n",
       "      <td>$788,352</td>\n",
       "      <td>USA</td>\n",
       "    </tr>\n",
       "    <tr>\n",
       "      <td>2043</td>\n",
       "      <td>Zach Johnson</td>\n",
       "      <td>81</td>\n",
       "      <td>70.393</td>\n",
       "      <td>286.8</td>\n",
       "      <td>66.54</td>\n",
       "      <td>64.16</td>\n",
       "      <td>0.415</td>\n",
       "      <td>0.169</td>\n",
       "      <td>0.584</td>\n",
       "      <td>1,017</td>\n",
       "      <td>4.0</td>\n",
       "      <td>NaN</td>\n",
       "      <td>2017</td>\n",
       "      <td>$2,362,968</td>\n",
       "      <td>USA</td>\n",
       "    </tr>\n",
       "  </tbody>\n",
       "</table>\n",
       "<p>372 rows × 15 columns</p>\n",
       "</div>"
      ],
      "text/plain": [
       "                   Name  Rounds  Scoring  Driving_Distance  \\\n",
       "1672     Aaron Baddeley      93   70.888             291.7   \n",
       "1673      Abraham Ancer      51   72.137             276.4   \n",
       "1674        Adam Hadwin      93   70.719             290.1   \n",
       "1675         Adam Scott      79   69.470             304.6   \n",
       "1676         Alex Cejka      71   70.675             281.5   \n",
       "...                 ...     ...      ...               ...   \n",
       "2039           Whee Kim      74   70.964             289.4   \n",
       "2040     William McGirt      89   71.151             284.8   \n",
       "2041  Xander Schauffele      96   70.163             306.3   \n",
       "2042          Zac Blair     105   71.007             272.7   \n",
       "2043       Zach Johnson      81   70.393             286.8   \n",
       "\n",
       "      Fairways_In_Regulation  Greens_In_Regulation   SG_P  SG_TTG   SG_T  \\\n",
       "1672                   55.42                 63.11  0.581  -0.347  0.234   \n",
       "1673                   65.42                 61.81 -0.421  -0.307 -0.727   \n",
       "1674                   63.62                 66.07  0.529  -0.003  0.526   \n",
       "1675                   55.55                 70.76 -0.168   2.062  1.894   \n",
       "1676                   65.89                 67.99  0.011   0.631  0.642   \n",
       "...                      ...                   ...    ...     ...    ...   \n",
       "2039                   54.32                 62.09  0.456  -0.688 -0.232   \n",
       "2040                   70.06                 67.23 -0.018  -0.049 -0.067   \n",
       "2041                   57.68                 67.74  0.342   0.382  0.724   \n",
       "2042                   69.70                 64.70  0.035  -0.078 -0.044   \n",
       "2043                   66.54                 64.16  0.415   0.169  0.584   \n",
       "\n",
       "     Points  Top10  1ST  Year       Money Country  \n",
       "1672    922    5.0  1.0  2016  $1,644,915     AUS  \n",
       "1673    147    NaN  NaN  2016    $162,811     MEX  \n",
       "1674    748    2.0  NaN  2016  $1,067,809     CAN  \n",
       "1675  1,930    9.0  2.0  2016  $6,473,090     AUS  \n",
       "1676    754    4.0  NaN  2016  $1,566,308     GER  \n",
       "...     ...    ...  ...   ...         ...     ...  \n",
       "2039    583    2.0  NaN  2017  $1,125,368     KOR  \n",
       "2040    621    3.0  NaN  2017  $1,225,005     USA  \n",
       "2041  2,151    4.0  2.0  2017  $4,312,674     USA  \n",
       "2042    364    1.0  NaN  2017    $788,352     USA  \n",
       "2043  1,017    4.0  NaN  2017  $2,362,968     USA  \n",
       "\n",
       "[372 rows x 15 columns]"
      ]
     },
     "execution_count": 11,
     "metadata": {},
     "output_type": "execute_result"
    }
   ],
   "source": [
    "golf = pd.read_csv(\"pgatour_raw.csv\", encoding='latin-1', index_col = 0)\n",
    "golf = golf.rename(columns={'NAME': 'Name', 'ROUNDS': 'Rounds', 'SCORING': 'Scoring', 'DRIVE_DISTANCE': 'Driving_Distance', 'FWY_%': 'Fairways_In_Regulation', 'POINTS': 'Points', 'TOP 10': 'Top10', 'MONEY': 'Money', 'COUNTRY': 'Country', 'GIR_%': 'Greens_In_Regulation'})\n",
    "\n",
    "golffrom2015 = golf[golf.Year > 2015]\n",
    "golffrom2015"
   ]
  },
  {
   "cell_type": "markdown",
   "metadata": {},
   "source": [
    "## Scatterplot"
   ]
  },
  {
   "cell_type": "code",
   "execution_count": 12,
   "metadata": {},
   "outputs": [
    {
     "data": {
      "text/plain": [
       "<seaborn.axisgrid.FacetGrid at 0x2091de69248>"
      ]
     },
     "execution_count": 12,
     "metadata": {},
     "output_type": "execute_result"
    },
    {
     "data": {
      "image/png": "[encoded data removed]",
      "text/plain": [
       "<Figure size 360x360 with 1 Axes>"
      ]
     },
     "metadata": {},
     "output_type": "display_data"
    }
   ],
   "source": [
    "sns.relplot(y=\"Scoring\", x=\"Driving_Distance\", data=golffrom2015)"
   ]
  },
  {
   "cell_type": "markdown",
   "metadata": {},
   "source": [
    "## Correlation Coefficient"
   ]
  },
  {
   "cell_type": "code",
   "execution_count": 13,
   "metadata": {},
   "outputs": [
    {
     "name": "stdout",
     "output_type": "stream",
     "text": [
      "[[ 1.         -0.37474432]\n",
      " [-0.37474432  1.        ]]\n"
     ]
    }
   ],
   "source": [
    "Coefficient = np.corrcoef(golffrom2015.Scoring, golffrom2015.Driving_Distance)\n",
    "print (Coefficient)"
   ]
  },
  {
   "cell_type": "markdown",
   "metadata": {},
   "source": [
    "## Regression"
   ]
  },
  {
   "cell_type": "code",
   "execution_count": 14,
   "metadata": {},
   "outputs": [
    {
     "data": {
      "text/plain": [
       "<matplotlib.axes._subplots.AxesSubplot at 0x2091db62748>"
      ]
     },
     "execution_count": 14,
     "metadata": {},
     "output_type": "execute_result"
    },
    {
     "data": {
      "image/png": "[encoded data removed]",
      "text/plain": [
       "<Figure size 432x288 with 1 Axes>"
      ]
     },
     "metadata": {},
     "output_type": "display_data"
    }
   ],
   "source": [
    "sns.regplot(y=\"Scoring\", x=\"Greens_In_Regulation\", data=golffrom2015, scatter_kws={'color':'green'}, line_kws={'color':'red'})"
   ]
  },
  {
   "cell_type": "markdown",
   "metadata": {},
   "source": [
    "# Probability And Statistics"
   ]
  },
  {
   "cell_type": "markdown",
   "metadata": {},
   "source": [
    "## Relative Frequency"
   ]
  },
  {
   "cell_type": "code",
   "execution_count": 15,
   "metadata": {},
   "outputs": [
    {
     "name": "stdout",
     "output_type": "stream",
     "text": [
      "Total rounds played 162202\n",
      "Total top 10 places 5468.0\n",
      "The chance of getting a top 10 finish 3.37%\n"
     ]
    }
   ],
   "source": [
    "# chance of getting a top10 place\n",
    "#count all rounds played\n",
    "allrounds = golf.Rounds.sum()\n",
    "print(\"Total rounds played \" + str(allrounds))\n",
    "#Count top10 places\n",
    "top10 = golf.Top10.sum()\n",
    "print(\"Total top 10 places \" + str(top10))\n",
    "\n",
    "# calculate the chance of getting a top 10 place\n",
    "print(\"The chance of getting a top 10 finish \" + str(round((top10/allrounds)*100,2)) + \"%\")\n"
   ]
  },
  {
   "cell_type": "markdown",
   "metadata": {},
   "source": [
    "## Mutually exclusive"
   ]
  },
  {
   "cell_type": "code",
   "execution_count": 16,
   "metadata": {},
   "outputs": [
    {
     "name": "stdout",
     "output_type": "stream",
     "text": [
      "Percentage American [68.74]%\n",
      "Percentage England [2.89]%\n",
      "Percentage Australia [8.46]%\n",
      "Percentage Other [19.91]%\n"
     ]
    }
   ],
   "source": [
    "#Probability somebody is from a certain country\n",
    "\n",
    "#All countries\n",
    "golfcountries = golf[['Country']]\n",
    "countries = golf.Country.count()\n",
    "#Different countries\n",
    "#America\n",
    "America = golfcountries[golf.Country == \"USA\"].count()\n",
    "#England\n",
    "England = golfcountries[golf.Country == \"ENG\"].count()\n",
    "#Australia\n",
    "Australia = golfcountries[golf.Country == \"AUS\"].count()\n",
    "#Others\n",
    "Other = golfcountries[(golf.Country != \"AUS\") & (golf.Country != \"USA\") & (golf.Country != \"ENG\")].count()\n",
    "\n",
    "#calculate probability of all the countries\n",
    "AmericaPercentage = round((America/countries)*100, 2).values\n",
    "EngelandPercentage = round((England/countries)*100, 2).values\n",
    "AustraliaPercentage = round((Australia/countries)*100, 2).values\n",
    "OtherPercentage = round((Other/countries)*100, 2).values\n",
    "\n",
    "print (\"Percentage American \" + str(AmericaPercentage) +\"%\")\n",
    "print (\"Percentage England \" + str(EngelandPercentage)+\"%\")\n",
    "print (\"Percentage Australia \" + str(AustraliaPercentage)+\"%\")\n",
    "print (\"Percentage Other \" + str(OtherPercentage)+\"%\")\n"
   ]
  },
  {
   "cell_type": "markdown",
   "metadata": {},
   "source": [
    "## Not mutually exclusive"
   ]
  },
  {
   "cell_type": "code",
   "execution_count": 17,
   "metadata": {},
   "outputs": [
    {
     "name": "stdout",
     "output_type": "stream",
     "text": [
      "Percentage male 72.3% Percentage above 195cm 28.9%\n",
      "Probability a player is male or above 195cm 80.31%\n"
     ]
    }
   ],
   "source": [
    "#Chance a basketball player is above 195cm or a male\n",
    "\n",
    "#the data\n",
    "basketballplayers = data[data.Sport == \"Basketball\"]\n",
    "above195 = basketballplayers[basketballplayers.Height > 195]\n",
    "Male = basketballplayers[basketballplayers.Sex == 'M']\n",
    "\n",
    "#number of entries for each criteria\n",
    "countbasketballplayers = basketballplayers.Name.count()\n",
    "countabove195 = above195.Name.count()\n",
    "countMale = Male.Name.count()\n",
    "\n",
    "print(\"Percentage male \"+ str(round(countMale/countbasketballplayers*100,1))+\"%\"+ \" Percentage above 195cm \"+str(round(countabove195/countbasketballplayers*100,1))+\"%\")\n",
    "\n",
    "#Calculate probability\n",
    "probability = (countabove195/countbasketballplayers) + (countMale/countbasketballplayers) - ((countabove195/countbasketballplayers) * (countMale/countbasketballplayers))\n",
    "probability = round(probability*100, 2)\n",
    "print(\"Probability a player is male or above 195cm \"+ str(probability)+\"%\")"
   ]
  },
  {
   "cell_type": "markdown",
   "metadata": {},
   "source": [
    "# Normal distribution"
   ]
  },
  {
   "cell_type": "markdown",
   "metadata": {},
   "source": [
    "#### The Data"
   ]
  },
  {
   "cell_type": "code",
   "execution_count": 18,
   "metadata": {},
   "outputs": [
    {
     "data": {
      "text/html": [
       "<div>\n",
       "<style scoped>\n",
       "    .dataframe tbody tr th:only-of-type {\n",
       "        vertical-align: middle;\n",
       "    }\n",
       "\n",
       "    .dataframe tbody tr th {\n",
       "        vertical-align: top;\n",
       "    }\n",
       "\n",
       "    .dataframe thead th {\n",
       "        text-align: right;\n",
       "    }\n",
       "</style>\n",
       "<table border=\"1\" class=\"dataframe\">\n",
       "  <thead>\n",
       "    <tr style=\"text-align: right;\">\n",
       "      <th></th>\n",
       "      <th>Driving_Distance</th>\n",
       "    </tr>\n",
       "  </thead>\n",
       "  <tbody>\n",
       "    <tr>\n",
       "      <td>0</td>\n",
       "      <td>291.9</td>\n",
       "    </tr>\n",
       "    <tr>\n",
       "      <td>1</td>\n",
       "      <td>300.9</td>\n",
       "    </tr>\n",
       "    <tr>\n",
       "      <td>2</td>\n",
       "      <td>288.9</td>\n",
       "    </tr>\n",
       "    <tr>\n",
       "      <td>3</td>\n",
       "      <td>280.7</td>\n",
       "    </tr>\n",
       "    <tr>\n",
       "      <td>4</td>\n",
       "      <td>294.7</td>\n",
       "    </tr>\n",
       "    <tr>\n",
       "      <td>...</td>\n",
       "      <td>...</td>\n",
       "    </tr>\n",
       "    <tr>\n",
       "      <td>2039</td>\n",
       "      <td>289.4</td>\n",
       "    </tr>\n",
       "    <tr>\n",
       "      <td>2040</td>\n",
       "      <td>284.8</td>\n",
       "    </tr>\n",
       "    <tr>\n",
       "      <td>2041</td>\n",
       "      <td>306.3</td>\n",
       "    </tr>\n",
       "    <tr>\n",
       "      <td>2042</td>\n",
       "      <td>272.7</td>\n",
       "    </tr>\n",
       "    <tr>\n",
       "      <td>2043</td>\n",
       "      <td>286.8</td>\n",
       "    </tr>\n",
       "  </tbody>\n",
       "</table>\n",
       "<p>2044 rows × 1 columns</p>\n",
       "</div>"
      ],
      "text/plain": [
       "      Driving_Distance\n",
       "0                291.9\n",
       "1                300.9\n",
       "2                288.9\n",
       "3                280.7\n",
       "4                294.7\n",
       "...                ...\n",
       "2039             289.4\n",
       "2040             284.8\n",
       "2041             306.3\n",
       "2042             272.7\n",
       "2043             286.8\n",
       "\n",
       "[2044 rows x 1 columns]"
      ]
     },
     "execution_count": 18,
     "metadata": {},
     "output_type": "execute_result"
    }
   ],
   "source": [
    "golf[['Driving_Distance']]"
   ]
  },
  {
   "cell_type": "markdown",
   "metadata": {},
   "source": [
    "#### values used for further calculations"
   ]
  },
  {
   "cell_type": "code",
   "execution_count": 19,
   "metadata": {},
   "outputs": [
    {
     "name": "stdout",
     "output_type": "stream",
     "text": [
      "Mean 289.54\n",
      "Median 289.3\n",
      "Mode ModeResult(mode=array([288.1]), count=array([18]))\n",
      "Variance 75.8283\n",
      "Deviation 8.71\n"
     ]
    }
   ],
   "source": [
    "#Mean\n",
    "mean = np.mean(golf.Driving_Distance)\n",
    "#Median\n",
    "median = np.median(golf.Driving_Distance)\n",
    "#Mode\n",
    "mode = stats.mode(golf.Driving_Distance)\n",
    "#Variance\n",
    "variance = np.var(golf.Driving_Distance)\n",
    "#Standard deviation\n",
    "deviation = math.sqrt(variance)\n",
    "\n",
    "print(\"Mean \"+str(round(mean,2)))\n",
    "print(\"Median \"+str(median))\n",
    "print(\"Mode \"+str(mode))\n",
    "print(\"Variance \"+str(round(variance,4)))\n",
    "print(\"Deviation \"+str(round(deviation,2)))"
   ]
  },
  {
   "cell_type": "markdown",
   "metadata": {},
   "source": [
    "#### Visualise the curve"
   ]
  },
  {
   "cell_type": "code",
   "execution_count": 24,
   "metadata": {},
   "outputs": [
    {
     "data": {
      "image/png": "[encoded data removed]",
      "text/plain": [
       "<Figure size 648x432 with 1 Axes>"
      ]
     },
     "metadata": {},
     "output_type": "display_data"
    }
   ],
   "source": [
    "#Visualise the curve\n",
    "#import\n",
    "from scipy.stats import norm\n",
    "\n",
    "mu = mean\n",
    "sigma = deviation\n",
    "x1 = 295\n",
    "x2 = 310\n",
    "z1 = (x1 - mu) /sigma\n",
    "z2 = (x2 - mu) /sigma\n",
    "\n",
    "x = np.arange(z1, z2, 0.001)\n",
    "x_all = np.arange(-10, 10, 0.001)\n",
    "# mean = 0, stddev = 1, since Z-transform was calculated\n",
    "y = norm.pdf(x,0,1)\n",
    "y2 = norm.pdf(x_all,0,1)\n",
    "\n",
    "fig, ax = plt.subplots(figsize=(9,6))\n",
    "plt.style.use('fivethirtyeight')\n",
    "ax.plot(x_all,y2)\n",
    "\n",
    "ax.fill_between(x,y,0, alpha=0.3, color='b')\n",
    "ax.fill_between(x_all,y2,0, alpha=0.1)\n",
    "ax.set_xlim([-4,4])\n",
    "ax.set_yticklabels([])\n",
    "ax.set_title('Driving Distance')\n",
    "\n",
    "plt.show()"
   ]
  },
  {
   "cell_type": "markdown",
   "metadata": {},
   "source": [
    "#### Calculate the probability"
   ]
  },
  {
   "cell_type": "code",
   "execution_count": 25,
   "metadata": {},
   "outputs": [
    {
     "name": "stdout",
     "output_type": "stream",
     "text": [
      "Lower Bound: 0.2347\n",
      "Upper Bound: 0.4906\n",
      "probability a player hits it between 295 and 310 yards = 25.6%\n"
     ]
    }
   ],
   "source": [
    "from math import erf, sqrt\n",
    "\n",
    "# probability from Z=0 to lower bound\n",
    "double_prob = erf( (x1-mu) / (sigma*sqrt(2)) )\n",
    "p_lower = double_prob/2\n",
    "print(f'Lower Bound: {round(p_lower,4)}')\n",
    "\n",
    "# probability from Z=0 to upper bound\n",
    "double_prob = erf( (x2-mu) / (sigma*sqrt(2)) )\n",
    "p_upper = double_prob/2\n",
    "print(f'Upper Bound: {round(p_upper,4)}')\n",
    "\n",
    "Pin = (p_upper) - (p_lower)\n",
    "print(f'probability a player hits it between 295 and 310 yards = {round(Pin*100,1)}%')"
   ]
  },
  {
   "cell_type": "code",
   "execution_count": null,
   "metadata": {},
   "outputs": [],
   "source": []
  }
 ],
 "metadata": {
  "kernelspec": {
   "display_name": "Python 3",
   "language": "python",
   "name": "python3"
  },
  "language_info": {
   "codemirror_mode": {
    "name": "ipython",
    "version": 3
   },
   "file_extension": ".py",
   "mimetype": "text/x-python",
   "name": "python",
   "nbconvert_exporter": "python",
   "pygments_lexer": "ipython3",
   "version": "3.7.4"
  }
 },
 "nbformat": 4,
 "nbformat_minor": 2
}
